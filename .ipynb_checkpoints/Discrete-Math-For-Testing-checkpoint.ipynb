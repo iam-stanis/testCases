{
 "cells": [
  {
   "cell_type": "markdown",
   "id": "31ca515d-4f4a-41d7-85fd-cd6e6c359f37",
   "metadata": {},
   "source": [
    "## Teori Himpunan"
   ]
  },
  {
   "cell_type": "code",
   "execution_count": 1,
   "id": "f3359d55-2417-4228-ae1c-0ffe297b810a",
   "metadata": {},
   "outputs": [
    {
     "name": "stdout",
     "output_type": "stream",
     "text": [
      "testing feature A\n",
      "testing feature B\n",
      "----\n",
      "testing feature A\n",
      "testing feature C\n",
      "----\n",
      "testing feature B\n",
      "testing feature C\n",
      "----\n",
      "testing feature A\n",
      "testing feature B\n",
      "testing feature C\n",
      "----\n"
     ]
    }
   ],
   "source": [
    "def testFeatureCombination(featureA, featureB, featureC): #parameter sesuai jumlah total fitur\n",
    "    #Menentukan kombinasi fitur mana yang diuji\n",
    "    if featureA == True:\n",
    "        print(\"testing feature A\")\n",
    "    if featureB == True:\n",
    "        print(\"testing feature B\")\n",
    "    if featureC == True:\n",
    "        print(\"testing feature C\")\n",
    "\n",
    "#List himpunan test case. Himpunan pertama = test case pertama dst.\n",
    "featureCombination = [[True, True, False], \n",
    "                      [True, False, True], \n",
    "                      [False, True, True], \n",
    "                      [True, True, True]] \n",
    "\n",
    "for combination in featureCombination:\n",
    "    testFeatureCombination(combination[0], combination[1], combination[2])\n",
    "    print(\"----\")"
   ]
  },
  {
   "cell_type": "markdown",
   "id": "96767f09-06f6-4a85-80f5-aa0276e81ba2",
   "metadata": {},
   "source": [
    "## Pengujian Kelas Equivalent"
   ]
  },
  {
   "cell_type": "code",
   "execution_count": 14,
   "id": "8316f119-0046-4019-9ed4-7f26aeba2103",
   "metadata": {},
   "outputs": [
    {
     "name": "stdout",
     "output_type": "stream",
     "text": [
      "Failure\n",
      "----\n",
      "Success\n",
      "----\n",
      "Success\n",
      "----\n"
     ]
    }
   ],
   "source": [
    "status = [\"Failure\", \"Success\"]\n",
    "\n",
    "def processValue(value):\n",
    "    if value<0:\n",
    "        printStatus = print(status[0]) \n",
    "        return printStatus\n",
    "    if value==0:\n",
    "        printStatus = print(status[1])\n",
    "        return printStatus\n",
    "    return print(status[1])\n",
    "\n",
    "processValue(-5)\n",
    "print(\"----\")\n",
    "processValue(0)\n",
    "print(\"----\")\n",
    "processValue(10)\n",
    "print(\"----\")"
   ]
  },
  {
   "cell_type": "markdown",
   "id": "17cf238f-ddff-4dac-91da-52818fee61dd",
   "metadata": {},
   "source": [
    "## Pengujian Keterjangkauan"
   ]
  },
  {
   "cell_type": "code",
   "execution_count": 15,
   "id": "509c8b78-aff0-457c-8737-7478c7614bae",
   "metadata": {},
   "outputs": [
    {
     "name": "stdout",
     "output_type": "stream",
     "text": [
      "Bilangan positif\n",
      "Bilangan ganjil\n",
      "Bilangan negatif\n",
      "Bilangan negatif\n",
      "Bilangan positif\n",
      "Bilangan genap\n",
      "Bilangan ganjil\n",
      "Bilangan negatif\n"
     ]
    }
   ],
   "source": [
    "def integers(x):\n",
    "    if x>0:\n",
    "        print(\"Bilangan positif\")\n",
    "        if (x % 2 == 0):\n",
    "            print(\"Bilangan genap\")\n",
    "        print(\"Bilangan ganjil\")\n",
    "    print(\"Bilangan negatif\")\n",
    "\n",
    "integers(7)\n",
    "integers(-15)\n",
    "integers(8)\n",
    "    "
   ]
  },
  {
   "cell_type": "markdown",
   "id": "d14813fe-ac8c-496f-9526-8782abd12a44",
   "metadata": {},
   "source": [
    "## Pengujian Batasan"
   ]
  },
  {
   "cell_type": "code",
   "execution_count": 18,
   "id": "3d6b0be2-5ec3-4ee5-ba57-26b4a5a9206d",
   "metadata": {
    "scrolled": true
   },
   "outputs": [
    {
     "data": {
      "text/plain": [
       "0"
      ]
     },
     "execution_count": 18,
     "metadata": {},
     "output_type": "execute_result"
    }
   ],
   "source": [
    "status = [\"Failure\", \"Success\"]\n",
    "\n",
    "def evaluateCombination(a, b):\n",
    "    global printStatus\n",
    "    if(a<0 or a>10):\n",
    "        printStatus = status[0]\n",
    "    if(b and a%2 == 0):\n",
    "        printStatus = status[1]\n",
    "    if(not b and a%2 != 0):\n",
    "        printStatus = status[1]\n",
    "    return printStatus\n",
    "\n",
    "evaluateCombination(5, True)"
   ]
  },
  {
   "cell_type": "markdown",
   "id": "2436bef8-1d3a-4cad-a3db-ec0f9e05646a",
   "metadata": {},
   "source": [
    "## Pengujian Kombinatorial"
   ]
  },
  {
   "cell_type": "markdown",
   "id": "333d6838-e4d9-49a0-9b72-78b81e6b81d6",
   "metadata": {},
   "source": [
    "## Pengujian Pengurutan"
   ]
  },
  {
   "cell_type": "markdown",
   "id": "98061fcf-2a19-4a49-aa66-c5b9780a641d",
   "metadata": {},
   "source": [
    "## Diagram Venn"
   ]
  },
  {
   "cell_type": "markdown",
   "id": "0f693aa6-18dd-404f-a1af-c806dffc9991",
   "metadata": {},
   "source": [
    "## Faktorial"
   ]
  },
  {
   "cell_type": "markdown",
   "id": "e9310122-a1d8-431d-b7c7-4a6969f3bebc",
   "metadata": {},
   "source": [
    "## Fibonacci"
   ]
  }
 ],
 "metadata": {
  "kernelspec": {
   "display_name": "Python 3 (ipykernel)",
   "language": "python",
   "name": "python3"
  },
  "language_info": {
   "codemirror_mode": {
    "name": "ipython",
    "version": 3
   },
   "file_extension": ".py",
   "mimetype": "text/x-python",
   "name": "python",
   "nbconvert_exporter": "python",
   "pygments_lexer": "ipython3",
   "version": "3.13.5"
  }
 },
 "nbformat": 4,
 "nbformat_minor": 5
}
