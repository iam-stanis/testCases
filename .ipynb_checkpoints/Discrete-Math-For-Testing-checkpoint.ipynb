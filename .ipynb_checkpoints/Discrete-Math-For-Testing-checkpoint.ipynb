{
 "cells": [
  {
   "cell_type": "markdown",
   "id": "31ca515d-4f4a-41d7-85fd-cd6e6c359f37",
   "metadata": {},
   "source": [
    "## Teori Himpunan"
   ]
  },
  {
   "cell_type": "code",
   "execution_count": 1,
   "id": "f3359d55-2417-4228-ae1c-0ffe297b810a",
   "metadata": {},
   "outputs": [
    {
     "name": "stdout",
     "output_type": "stream",
     "text": [
      "testing feature A\n",
      "testing feature B\n",
      "----\n",
      "testing feature A\n",
      "testing feature C\n",
      "----\n",
      "testing feature B\n",
      "testing feature C\n",
      "----\n",
      "testing feature A\n",
      "testing feature B\n",
      "testing feature C\n",
      "----\n"
     ]
    }
   ],
   "source": [
    "def testFeatureCombination(featureA, featureB, featureC): #parameter sesuai jumlah total fitur\n",
    "    #Menentukan kombinasi fitur mana yang diuji\n",
    "    if featureA == True:\n",
    "        print(\"testing feature A\")\n",
    "    if featureB == True:\n",
    "        print(\"testing feature B\")\n",
    "    if featureC == True:\n",
    "        print(\"testing feature C\")\n",
    "\n",
    "#List himpunan test case. Himpunan pertama = test case pertama dst.\n",
    "featureCombination = [[True, True, False], \n",
    "                      [True, False, True], \n",
    "                      [False, True, True], \n",
    "                      [True, True, True]] \n",
    "\n",
    "for combination in featureCombination:\n",
    "    testFeatureCombination(combination[0], combination[1], combination[2])\n",
    "    print(\"----\")"
   ]
  },
  {
   "cell_type": "markdown",
   "id": "96767f09-06f6-4a85-80f5-aa0276e81ba2",
   "metadata": {},
   "source": [
    "## Pengujian Kelas Equivalent"
   ]
  },
  {
   "cell_type": "code",
   "execution_count": 32,
   "id": "8316f119-0046-4019-9ed4-7f26aeba2103",
   "metadata": {},
   "outputs": [
    {
     "name": "stdout",
     "output_type": "stream",
     "text": [
      "Failure\n",
      "----\n",
      "Success\n",
      "----\n",
      "Success\n",
      "----\n"
     ]
    }
   ],
   "source": [
    "#Pengujian terhadap kelas data\n",
    "\n",
    "status = [\"Failure\", \"Success\"]\n",
    "\n",
    "def processValue(value):\n",
    "    if value<0:\n",
    "        printStatus = print(status[0]) \n",
    "        return printStatus\n",
    "    if value==0:\n",
    "        printStatus = print(status[1])\n",
    "        return printStatus\n",
    "    return print(status[1])\n",
    "\n",
    "processValue(-5)\n",
    "print(\"----\")\n",
    "processValue(0)\n",
    "print(\"----\")\n",
    "processValue(10)\n",
    "print(\"----\")"
   ]
  },
  {
   "cell_type": "markdown",
   "id": "17cf238f-ddff-4dac-91da-52818fee61dd",
   "metadata": {},
   "source": [
    "## Pengujian Keterjangkauan"
   ]
  },
  {
   "cell_type": "code",
   "execution_count": 15,
   "id": "509c8b78-aff0-457c-8737-7478c7614bae",
   "metadata": {},
   "outputs": [
    {
     "name": "stdout",
     "output_type": "stream",
     "text": [
      "Bilangan positif\n",
      "Bilangan ganjil\n",
      "Bilangan negatif\n",
      "Bilangan negatif\n",
      "Bilangan positif\n",
      "Bilangan genap\n",
      "Bilangan ganjil\n",
      "Bilangan negatif\n"
     ]
    }
   ],
   "source": [
    "def integers(x):\n",
    "    if x>0:\n",
    "        print(\"Bilangan positif\")\n",
    "        if (x % 2 == 0):\n",
    "            print(\"Bilangan genap\")\n",
    "        print(\"Bilangan ganjil\")\n",
    "    print(\"Bilangan negatif\")\n",
    "\n",
    "integers(7)\n",
    "integers(-15)\n",
    "integers(8)\n",
    "    "
   ]
  },
  {
   "cell_type": "markdown",
   "id": "d14813fe-ac8c-496f-9526-8782abd12a44",
   "metadata": {},
   "source": [
    "## Pengujian Batasan"
   ]
  },
  {
   "cell_type": "code",
   "execution_count": 37,
   "id": "8fafb43b-ce69-49d2-9ad6-bab5c26e1c92",
   "metadata": {},
   "outputs": [
    {
     "name": "stdout",
     "output_type": "stream",
     "text": [
      "Suhu di luar range\n",
      "---\n",
      "Suhu panas, hidupkan pendingin\n",
      "---\n",
      "Suhu dingin, hidupkan pemanas\n",
      "---\n",
      "Suhu di luar range\n",
      "---\n",
      "Suhu di luar range\n",
      "---\n"
     ]
    }
   ],
   "source": [
    "status = [\"Failure\", \"Success\"]\n",
    "\n",
    "def temperatureCheck(temperature):\n",
    "    if(temperature < 25 or temperature > 40):\n",
    "        printStatus = status[0]\n",
    "        print(\"Suhu di luar range\")\n",
    "    printStatus = status[1] \n",
    "    if (temperature >= 25 and temperature <= 30):\n",
    "        print(\"Suhu dingin, hidupkan pemanas\")\n",
    "    if (temperature > 30 and temperature <= 40):\n",
    "        print(\"Suhu panas, hidupkan pendingin\")\n",
    "    return printStatus\n",
    "\n",
    "def testTemperature():\n",
    "    temperatureCheck(20)\n",
    "    print(\"---\")\n",
    "    temperatureCheck(37)\n",
    "    print(\"---\")\n",
    "    temperatureCheck(30)\n",
    "    print(\"---\")\n",
    "    temperatureCheck(100)\n",
    "    print(\"---\")\n",
    "    temperatureCheck(-17)\n",
    "    print(\"---\")\n",
    "\n",
    "testTemperature()\n",
    "    "
   ]
  },
  {
   "cell_type": "markdown",
   "id": "2436bef8-1d3a-4cad-a3db-ec0f9e05646a",
   "metadata": {},
   "source": [
    "## Pengujian Kombinatorial"
   ]
  },
  {
   "cell_type": "code",
   "execution_count": 34,
   "id": "3d6b0be2-5ec3-4ee5-ba57-26b4a5a9206d",
   "metadata": {
    "scrolled": true
   },
   "outputs": [
    {
     "name": "stdout",
     "output_type": "stream",
     "text": [
      "-5\n",
      "False\n",
      "Failure\n"
     ]
    }
   ],
   "source": [
    "status = [\"Failure\", \"Success\"]\n",
    "\n",
    "def evaluateCombination(a, b):\n",
    "    global printStatus\n",
    "    print(a)\n",
    "    print(b)\n",
    "    if(a>0 and a<10):\n",
    "        printStatus = status[1]\n",
    "        if(b and a%2 == 0):\n",
    "            printStatus = status[1] \n",
    "        printStatus = status[1]\n",
    "    printStatus = status[0]\n",
    "    return printStatus\n",
    "\n",
    "state = evaluateCombination(-5, False)\n",
    "print(state)"
   ]
  },
  {
   "cell_type": "markdown",
   "id": "333d6838-e4d9-49a0-9b72-78b81e6b81d6",
   "metadata": {},
   "source": [
    "## Pengujian Pengurutan"
   ]
  },
  {
   "cell_type": "code",
   "execution_count": 56,
   "id": "a48e5908-b8f3-4a31-b06a-aa863aa9307e",
   "metadata": {},
   "outputs": [
    {
     "name": "stdout",
     "output_type": "stream",
     "text": [
      "Success\n",
      "Success\n",
      "Failure\n",
      "None\n"
     ]
    }
   ],
   "source": [
    "status = [\"Failure\", \"Success\"]\n",
    "\n",
    "def ascSorted(array):\n",
    "    for i in range(1, len(array)) :\n",
    "        if array[i] > array[i-1]:\n",
    "            printStatus = status[1]\n",
    "        if array[i] < array[i-1]:\n",
    "            printStatus = status[0]\n",
    "            break\n",
    "    print(printStatus)\n",
    "    \n",
    "\n",
    "def descSorted(array):\n",
    "    for i in range(1, len(array)) :\n",
    "        if array[i] < array[i-1]:\n",
    "            printStatus = status[1]\n",
    "        if array[i] > array[i-1]:\n",
    "            printStatus = status[0]\n",
    "            break\n",
    "    print(printStatus)\n",
    "    \n",
    "\n",
    "def isSorted(array):\n",
    "    if array[0] < array[1]:\n",
    "        ascSorted(array)\n",
    "    if array[0] > array[1]:\n",
    "        descSorted(array)\n",
    "\n",
    "def testSorted():\n",
    "    asc_array = [1,2,3,4,5]\n",
    "    desc_array = [5,4,3,2,1]\n",
    "    unsorted_array = [1,5,2,3,4]\n",
    "\n",
    "    isSorted(asc_array)\n",
    "    isSorted(desc_array)\n",
    "    isSorted(unsorted_array)\n",
    "\n",
    "result = testSorted()\n",
    "print(result)\n",
    "    "
   ]
  }
 ],
 "metadata": {
  "kernelspec": {
   "display_name": "Python 3 (ipykernel)",
   "language": "python",
   "name": "python3"
  },
  "language_info": {
   "codemirror_mode": {
    "name": "ipython",
    "version": 3
   },
   "file_extension": ".py",
   "mimetype": "text/x-python",
   "name": "python",
   "nbconvert_exporter": "python",
   "pygments_lexer": "ipython3",
   "version": "3.13.5"
  }
 },
 "nbformat": 4,
 "nbformat_minor": 5
}
